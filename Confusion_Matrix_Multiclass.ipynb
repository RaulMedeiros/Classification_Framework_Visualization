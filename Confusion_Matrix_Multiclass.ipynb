{
  "nbformat": 4,
  "nbformat_minor": 0,
  "metadata": {
    "colab": {
      "name": "Confusion_Matrix_Multiclass.ipynb",
      "version": "0.3.2",
      "provenance": [],
      "include_colab_link": true
    }
  },
  "cells": [
    {
      "cell_type": "markdown",
      "metadata": {
        "id": "view-in-github",
        "colab_type": "text"
      },
      "source": [
        "[View in Colaboratory](https://colab.research.google.com/github/RaulMedeiros/Classification_Framework_Visualization/blob/master/Confusion_Matrix_Multiclass.ipynb)"
      ]
    },
    {
      "metadata": {
        "id": "Beh4nZpoQNjK",
        "colab_type": "text"
      },
      "cell_type": "markdown",
      "source": [
        "## Create or load some dataset"
      ]
    },
    {
      "metadata": {
        "id": "TBmQcAhPO_LU",
        "colab_type": "code",
        "colab": {},
        "cellView": "code"
      },
      "cell_type": "code",
      "source": [
        "from sklearn import datasets\n",
        "\n",
        "n_classes = 5\n",
        "X, y = datasets.make_classification(n_classes=n_classes,random_state=0,\n",
        "                                    n_informative=4)"
      ],
      "execution_count": 0,
      "outputs": []
    },
    {
      "metadata": {
        "id": "T7cmVsdJRtVk",
        "colab_type": "text"
      },
      "cell_type": "markdown",
      "source": [
        "## Returns Any Confusion matrix into the 'sklearn make_scorer'"
      ]
    },
    {
      "metadata": {
        "id": "ZG7d5WNDQ0fR",
        "colab_type": "code",
        "colab": {}
      },
      "cell_type": "code",
      "source": [
        "from sklearn.metrics import confusion_matrix\n",
        "\n",
        "def conf_mat(y_true, y_pred,x,y): \n",
        "    return confusion_matrix(y_true, y_pred)[x,y]"
      ],
      "execution_count": 0,
      "outputs": []
    },
    {
      "metadata": {
        "id": "ah16jaXaPZUk",
        "colab_type": "code",
        "colab": {}
      },
      "cell_type": "code",
      "source": [
        "from sklearn.metrics import make_scorer\n",
        "  \n",
        "def scoring_conf_mat(n_classes = 2 ,scoring = {}):\n",
        "    for x in range(n_classes):\n",
        "        for y in range(n_classes):        \n",
        "            scoring['cm_'+str(x)+str(y)] = make_scorer(conf_mat,x=x,y=y)\n",
        "    return scoring"
      ],
      "execution_count": 0,
      "outputs": []
    },
    {
      "metadata": {
        "id": "z3N0U3RdSc8g",
        "colab_type": "text"
      },
      "cell_type": "markdown",
      "source": [
        "## Choose a generic classifier"
      ]
    },
    {
      "metadata": {
        "id": "Ll2xiEbgQdLG",
        "colab_type": "code",
        "colab": {}
      },
      "cell_type": "code",
      "source": [
        "from sklearn.svm import LinearSVC\n",
        "\n",
        "clf = LinearSVC(random_state=0)"
      ],
      "execution_count": 0,
      "outputs": []
    },
    {
      "metadata": {
        "id": "g56egjmsS4AD",
        "colab_type": "text"
      },
      "cell_type": "markdown",
      "source": [
        "## Compute metrics (in this case Confusion matrix)"
      ]
    },
    {
      "metadata": {
        "id": "lp5FggYhQV2E",
        "colab_type": "code",
        "colab": {
          "base_uri": "https://localhost:8080/",
          "height": 88
        },
        "outputId": "4aa95d1a-dc09-4a19-ac30-70460b9b0d29"
      },
      "cell_type": "code",
      "source": [
        "from sklearn.model_selection import cross_validate\n",
        "\n",
        "scoring = scoring_conf_mat(n_classes)\n",
        "results=cross_validate(clf, X, y, scoring=scoring,cv=10,verbose=0,\n",
        "                       return_train_score=False)\n",
        "print(results)"
      ],
      "execution_count": 12,
      "outputs": [
        {
          "output_type": "stream",
          "text": [
            "{'fit_time': array([0.01446009, 0.01848817, 0.01740193, 0.01673508, 0.01767707,\n",
            "       0.01779795, 0.01739883, 0.01682115, 0.01417899, 0.01742697]), 'test_cm_13': array([0, 0, 0, 0, 0, 0, 0, 0, 0, 0]), 'test_cm_12': array([0, 0, 0, 1, 0, 0, 1, 0, 2, 0]), 'test_cm_11': array([2, 2, 0, 0, 2, 2, 1, 0, 0, 1]), 'test_cm_10': array([1, 0, 1, 0, 0, 0, 0, 1, 0, 1]), 'test_cm_14': array([0, 0, 1, 1, 0, 0, 0, 1, 0, 0]), 'test_cm_31': array([0, 0, 0, 0, 0, 0, 0, 0, 0, 0]), 'test_cm_30': array([0, 0, 0, 2, 0, 0, 1, 0, 0, 0]), 'test_cm_33': array([1, 2, 2, 0, 2, 2, 1, 2, 2, 2]), 'test_cm_32': array([0, 0, 0, 0, 0, 0, 0, 0, 0, 0]), 'test_cm_34': array([1, 0, 0, 0, 0, 0, 0, 0, 0, 0]), 'test_cm_04': array([1, 0, 0, 0, 0, 0, 0, 1, 0, 0]), 'score_time': array([0.00831699, 0.00781298, 0.00763798, 0.00750995, 0.00750494,\n",
            "       0.00743508, 0.00758719, 0.00762582, 0.00756383, 0.00867105]), 'test_cm_40': array([0, 0, 0, 0, 0, 0, 0, 1, 0, 0]), 'test_cm_41': array([0, 0, 0, 1, 1, 1, 0, 0, 0, 0]), 'test_cm_42': array([0, 0, 2, 0, 0, 0, 0, 0, 1, 0]), 'test_cm_43': array([1, 0, 0, 0, 1, 1, 1, 0, 0, 0]), 'test_cm_44': array([1, 2, 0, 1, 0, 0, 1, 1, 0, 1]), 'test_cm_01': array([0, 0, 0, 1, 1, 0, 0, 1, 0, 1]), 'test_cm_22': array([2, 2, 1, 2, 1, 2, 0, 1, 2, 1]), 'test_cm_23': array([0, 0, 0, 0, 0, 0, 1, 0, 0, 0]), 'test_cm_20': array([0, 0, 0, 0, 0, 0, 0, 0, 0, 1]), 'test_cm_21': array([0, 0, 0, 0, 0, 0, 0, 1, 0, 0]), 'test_cm_00': array([1, 1, 0, 0, 1, 2, 0, 0, 2, 1]), 'test_cm_02': array([0, 1, 2, 1, 0, 0, 0, 0, 0, 0]), 'test_cm_24': array([1, 0, 1, 0, 1, 0, 1, 0, 0, 0]), 'test_cm_03': array([0, 0, 0, 0, 0, 0, 2, 0, 0, 0])}\n"
          ],
          "name": "stdout"
        }
      ]
    },
    {
      "metadata": {
        "id": "twtd4vXeTMle",
        "colab_type": "text"
      },
      "cell_type": "markdown",
      "source": [
        "## Concatenate Results into a Matrix\n",
        "#### PS: I'm combining all folds results by summing them."
      ]
    },
    {
      "metadata": {
        "id": "nFrDHFVtPdmk",
        "colab_type": "code",
        "colab": {
          "base_uri": "https://localhost:8080/",
          "height": 102
        },
        "outputId": "413122d6-dde2-43c1-f688-d1051ea95c47"
      },
      "cell_type": "code",
      "source": [
        "import numpy as np\n",
        "\n",
        "def combine_conf_mat_scores(results,n_classes = 2,test=True):\n",
        "    cm = np.zeros((n_classes, n_classes),dtype=np.int)\n",
        "    for x in range(n_classes):\n",
        "        for y in range(n_classes): \n",
        "            if (test):\n",
        "                field = 'test_cm_'                \n",
        "            else:\n",
        "                field = 'train_cm_'             \n",
        "            cm[x,y] = np.sum(results[field+str(x)+str(y)])\n",
        "    return np.array(cm)\n",
        "\n",
        "cnf_matrix = combine_conf_mat_scores(results,n_classes)\n",
        "print(cnf_matrix)"
      ],
      "execution_count": 13,
      "outputs": [
        {
          "output_type": "stream",
          "text": [
            "[[ 8  4  4  2  2]\n",
            " [ 4 10  4  0  3]\n",
            " [ 1  1 14  1  4]\n",
            " [ 3  0  0 16  1]\n",
            " [ 1  3  3  4  7]]\n"
          ],
          "name": "stdout"
        }
      ]
    },
    {
      "metadata": {
        "id": "1OksMLVQPa2-",
        "colab_type": "code",
        "colab": {
          "base_uri": "https://localhost:8080/",
          "height": 1017
        },
        "outputId": "b8f5b42f-d25a-476a-9e57-bbd06b7be20b"
      },
      "cell_type": "code",
      "source": [
        "import matplotlib.pyplot as plt\n",
        "import itertools\n",
        "\n",
        "'''http://scikit-learn.org/stable/auto_examples/model_selection/\n",
        "   plot_confusion_matrix.html with minor changes'''\n",
        "\n",
        "def plot_confusion_matrix(cm, classes=[],\n",
        "                          normalize=False,\n",
        "                          title='Confusion matrix',\n",
        "                          cmap=plt.cm.Blues):\n",
        "    \"\"\"\n",
        "    This function prints and plots the confusion matrix.\n",
        "    Normalization can be applied by setting `normalize=True`.\n",
        "    \"\"\"\n",
        "    if (not classes):\n",
        "        classes = list(map(str,np.arange(len(cnf_matrix))))     \n",
        "    \n",
        "    if normalize:\n",
        "        cm = cm.astype('float') / cm.sum(axis=1)[:, np.newaxis]\n",
        "        print(\"Normalized confusion matrix\")\n",
        "    else:\n",
        "        print('Confusion matrix, without normalization')\n",
        "\n",
        "    print(cm)\n",
        "\n",
        "    plt.imshow(cm, interpolation='nearest', cmap=cmap)\n",
        "    plt.title(title)\n",
        "    plt.colorbar()\n",
        "    tick_marks = np.arange(len(classes))\n",
        "    plt.xticks(tick_marks, classes, rotation=45)\n",
        "    plt.yticks(tick_marks, classes)\n",
        "\n",
        "    fmt = '.2f' if normalize else 'd'\n",
        "    thresh = cm.max() / 2.\n",
        "    for i, j in itertools.product(range(cm.shape[0]), range(cm.shape[1])):\n",
        "        plt.text(j, i, format(cm[i, j], fmt),\n",
        "                 horizontalalignment=\"center\",\n",
        "                 color=\"white\" if cm[i, j] > thresh else \"black\")\n",
        "\n",
        "    plt.tight_layout()\n",
        "    plt.grid(False)\n",
        "    plt.ylabel('True label')\n",
        "    plt.xlabel('Predicted label')\n",
        "    return True\n",
        "\n",
        "# Plot non-normalized confusion matrix\n",
        "plt.figure()\n",
        "plot_confusion_matrix(cnf_matrix,\n",
        "                      title='Confusion matrix, without normalization')\n",
        "\n",
        "# Plot normalized confusion matrix\n",
        "plt.figure()\n",
        "plot_confusion_matrix(cnf_matrix, normalize=True,\n",
        "                      title='Normalized confusion matrix')\n",
        "\n",
        "plt.show()"
      ],
      "execution_count": 14,
      "outputs": [
        {
          "output_type": "stream",
          "text": [
            "Confusion matrix, without normalization\n",
            "[[ 8  4  4  2  2]\n",
            " [ 4 10  4  0  3]\n",
            " [ 1  1 14  1  4]\n",
            " [ 3  0  0 16  1]\n",
            " [ 1  3  3  4  7]]\n",
            "Normalized confusion matrix\n",
            "[[0.4        0.2        0.2        0.1        0.1       ]\n",
            " [0.19047619 0.47619048 0.19047619 0.         0.14285714]\n",
            " [0.04761905 0.04761905 0.66666667 0.04761905 0.19047619]\n",
            " [0.15       0.         0.         0.8        0.05      ]\n",
            " [0.05555556 0.16666667 0.16666667 0.22222222 0.38888889]]\n"
          ],
          "name": "stdout"
        },
        {
          "output_type": "display_data",
          "data": {
            "image/png": "[encoded data removed]",
            "text/plain": [
              "<matplotlib.figure.Figure at 0x7fd327f612d0>"
            ]
          },
          "metadata": {
            "tags": []
          }
        },
        {
          "output_type": "display_data",
          "data": {
            "image/png": "[encoded data removed]",
            "text/plain": [
              "<matplotlib.figure.Figure at 0x7fd32545c6d0>"
            ]
          },
          "metadata": {
            "tags": []
          }
        }
      ]
    },
    {
      "metadata": {
        "id": "ozH1Nn5r_YSG",
        "colab_type": "code",
        "colab": {}
      },
      "cell_type": "code",
      "source": [
        ""
      ],
      "execution_count": 0,
      "outputs": []
    }
  ]
}